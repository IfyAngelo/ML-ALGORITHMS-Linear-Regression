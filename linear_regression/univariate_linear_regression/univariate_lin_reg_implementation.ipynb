{
 "cells": [
  {
   "cell_type": "code",
   "execution_count": 4,
   "metadata": {},
   "outputs": [],
   "source": [
    "# Import the required librarires\n",
    "\n",
    "import pandas as pd\n",
    "import numpy as np\n",
    "import matplotlib.pyplot as plt\n",
    "%matplotlib inline"
   ]
  },
  {
   "cell_type": "code",
   "execution_count": 5,
   "metadata": {},
   "outputs": [],
   "source": [
    "#Get dataset for project\n",
    "\n",
    "train_data = pd.read_csv('dataset/train.csv')\n",
    "test_data = pd.read_csv('dataset/test.csv')"
   ]
  },
  {
   "cell_type": "code",
   "execution_count": 6,
   "metadata": {},
   "outputs": [
    {
     "data": {
      "text/plain": [
       "x    0\n",
       "y    1\n",
       "dtype: int64"
      ]
     },
     "execution_count": 6,
     "metadata": {},
     "output_type": "execute_result"
    }
   ],
   "source": [
    "# Check for missing values\n",
    "\n",
    "train_data.isnull().sum()\n",
    "\n",
    "# Observe that there is a single missing value in y-column - meaning: x-column has no input"
   ]
  },
  {
   "cell_type": "code",
   "execution_count": 7,
   "metadata": {},
   "outputs": [
    {
     "data": {
      "text/html": [
       "<div>\n",
       "<style scoped>\n",
       "    .dataframe tbody tr th:only-of-type {\n",
       "        vertical-align: middle;\n",
       "    }\n",
       "\n",
       "    .dataframe tbody tr th {\n",
       "        vertical-align: top;\n",
       "    }\n",
       "\n",
       "    .dataframe thead th {\n",
       "        text-align: right;\n",
       "    }\n",
       "</style>\n",
       "<table border=\"1\" class=\"dataframe\">\n",
       "  <thead>\n",
       "    <tr style=\"text-align: right;\">\n",
       "      <th></th>\n",
       "      <th>x</th>\n",
       "      <th>y</th>\n",
       "    </tr>\n",
       "  </thead>\n",
       "  <tbody>\n",
       "    <tr>\n",
       "      <th>213</th>\n",
       "      <td>3530.157369</td>\n",
       "      <td>NaN</td>\n",
       "    </tr>\n",
       "  </tbody>\n",
       "</table>\n",
       "</div>"
      ],
      "text/plain": [
       "               x   y\n",
       "213  3530.157369 NaN"
      ]
     },
     "execution_count": 7,
     "metadata": {},
     "output_type": "execute_result"
    }
   ],
   "source": [
    "# Confirm the exact row in y_test that has NaN\n",
    "\n",
    "train_data[train_data.isnull().any(axis = 1)]"
   ]
  },
  {
   "cell_type": "code",
   "execution_count": 8,
   "metadata": {},
   "outputs": [
    {
     "data": {
      "text/plain": [
       "x    0\n",
       "y    0\n",
       "dtype: int64"
      ]
     },
     "execution_count": 8,
     "metadata": {},
     "output_type": "execute_result"
    }
   ],
   "source": [
    "# Drop empty row\n",
    "\n",
    "train_data.dropna(axis = 0, inplace = True)\n",
    "train_data.isnull().sum()"
   ]
  },
  {
   "cell_type": "code",
   "execution_count": 9,
   "metadata": {},
   "outputs": [],
   "source": [
    "# Set X and y for train dataset\n",
    "\n",
    "X_train = pd.DataFrame(data = train_data['x'])\n",
    "y_train = pd.DataFrame(data = train_data['y'])"
   ]
  },
  {
   "cell_type": "code",
   "execution_count": 10,
   "metadata": {},
   "outputs": [],
   "source": [
    "# Set X and y for test dataset\n",
    "\n",
    "X_test = pd.DataFrame(data = test_data['x'])\n",
    "y_test = pd.DataFrame(data = test_data['y'])"
   ]
  },
  {
   "cell_type": "code",
   "execution_count": 11,
   "metadata": {},
   "outputs": [],
   "source": [
    "# Convert dataframes to numpy arrays\n",
    "\n",
    "X = X_train.to_numpy()\n",
    "X_test = X_test.to_numpy()\n",
    "\n",
    "y = y_train.to_numpy()\n",
    "y_test = y_test.to_numpy()"
   ]
  },
  {
   "cell_type": "markdown",
   "metadata": {},
   "source": [
    "### USEFUL FUNCTIONS"
   ]
  },
  {
   "cell_type": "markdown",
   "metadata": {},
   "source": [
    "I will create some helper functions for use.\n",
    "I will create them in a section to keep the notebook organised."
   ]
  },
  {
   "cell_type": "code",
   "execution_count": 12,
   "metadata": {},
   "outputs": [],
   "source": [
    "# The Hypothesis\n",
    "\n",
    "# The hypothesis is a linear equation aka: equation of a straight line.\n",
    "# theta_0 = intercept\n",
    "# theta_1 = slope\n",
    "# The hypothesis function will calculate target values for given features and thetas(i) as (i = 0, 1).\n",
    "\n",
    "def hypothesis(X, theta_0 = 0, theta_1 = 0):\n",
    "    \"\"\"\n",
    "    calculates target values for a given feature input and thetas(i).\n",
    "    \n",
    "    :param X: input - numpy array of floats.\n",
    "    :param theta_0: intercept - float.\n",
    "    :param theta_1: slope - float.\n",
    "    \n",
    "    \"\"\"\n",
    "    \n",
    "    return theta_0 + (theta_1 * X)"
   ]
  },
  {
   "cell_type": "code",
   "execution_count": 13,
   "metadata": {},
   "outputs": [],
   "source": [
    "# The Cost Function\n",
    "\n",
    "# The question: how to pick the line of best fit for the data?.\n",
    "# This means - how to choose the best value of thetas(i) that fit the data.\n",
    "# I chose thetas(i) such that hypothesis h(x) is closer to y for all training samples.\n",
    "# A solution to the above question is to use ORDINARY LEAST SQUARE (OLS) or MEAN SQUARED ERROR (MSE).\n",
    "# MSE/OLS = (y^ - y); where y^ is predicted target and y is actual target.\n",
    "# Cost function is denoted by J(theta_0, theta_1).\n",
    "\n",
    "def J(theta_0, theta_1, X, y):\n",
    "    \"\"\"\n",
    "    calculates total error for given features and theta values.\n",
    "    \n",
    "    :param theta_0: intercept - float.\n",
    "    :param theta_1: slope - float.\n",
    "    :param X: input - numpy array of floats.\n",
    "    :param y: input (actual target values) - numpy array of floats.\n",
    "    \n",
    "    :return: total error - float.\n",
    "    \n",
    "    \"\"\"\n",
    "    \n",
    "    diff = (np.subtract(hypothesis(X, theta_0, theta_1), np.asarray(y)))\n",
    "    diff_squared = np.square(diff)\n",
    "    \n",
    "    return (diff_squared.sum() / (len(X)) * 2)"
   ]
  },
  {
   "cell_type": "code",
   "execution_count": 14,
   "metadata": {},
   "outputs": [],
   "source": [
    "# The Gradient Descent\n",
    "\n",
    "# The question: how to minimize cost function J(theta_0, theta_1)?\n",
    "# Solution to this question is to use gradient descent.\n",
    "# The gradient descent algorithm updates weight and bias until convergence / global optimum is met.\n",
    "\n",
    "def gradient_descent(theta_0, theta_1, alpha, X, y):\n",
    "    \"\"\"\n",
    "    calculates the GD for givent features and theta values.\n",
    "    \n",
    "    :param theta_0: intercept - float.\n",
    "    :param theta_1: slope - float.\n",
    "    :param alpha: learning rate - float.\n",
    "    :param X: input - numpy array of floats.\n",
    "    :param y: input (actual target values) - numpy array of floats.\n",
    "    \n",
    "    :return: calculated theta_0 and theta(1) - tuple of floats.\n",
    "    \n",
    "    \"\"\"\n",
    "    \n",
    "    my_array_0 = (np.subtract(hypothesis(X, theta_0, theta_1), np.asarray(y)))\n",
    "    my_array_1 = np.matmul(np.transpose(my_array_0), X)\n",
    "    \n",
    "    theta_0_temp = (alpha / len(X)) * my_array_0.sum()\n",
    "    theta_1_temp = (alpha / len(X)) * my_array_1.sum()\n",
    "    \n",
    "    new_theta_0 = theta_0 - theta_0_temp\n",
    "    new_theta_1 = theta_1 - theta_1_temp\n",
    "    \n",
    "    return (new_theta_0, new_theta_1)"
   ]
  },
  {
   "cell_type": "markdown",
   "metadata": {},
   "source": [
    "### TRAINING"
   ]
  },
  {
   "cell_type": "markdown",
   "metadata": {},
   "source": [
    "Before training, I will initialize some variables: \n",
    "initial theta(i) - which I set to 0 and learning rate.\n",
    "- I will also pick different values for theta(i) to observe their effects on the training.\n",
    "- I will also decide when the gradient descent (GD) converges by subtracting consecutive cost values.\n",
    "- If the difference is below my stipulated threshold, it concludes that GD converged."
   ]
  },
  {
   "cell_type": "code",
   "execution_count": 15,
   "metadata": {},
   "outputs": [],
   "source": [
    "# Initialize theta_0, theta_1, learning rate and convergence threshold\n",
    "\n",
    "alpha = 0.0001\n",
    "theta_0 = 0\n",
    "theta_1 = 0\n",
    "conv_thresh = 0.000001"
   ]
  },
  {
   "cell_type": "code",
   "execution_count": 16,
   "metadata": {},
   "outputs": [
    {
     "name": "stdout",
     "output_type": "stream",
     "text": [
      "Initial Cost: 6680.249652357345\n"
     ]
    }
   ],
   "source": [
    "# Calculate initial cost value\n",
    "\n",
    "diff = J(theta_0, theta_1, X, y)\n",
    "\n",
    "print('Initial Cost: {}'.format(J(theta_0, theta_1, X, y)))"
   ]
  },
  {
   "cell_type": "code",
   "execution_count": 17,
   "metadata": {},
   "outputs": [
    {
     "name": "stdout",
     "output_type": "stream",
     "text": [
      "Cost: 2972.4043500565017\n",
      "\n",
      "Iteration: 1\n",
      "Diff: 3707.8453023008437\n",
      "Theta 0: 0.004993986917045781\n",
      "Theta 1: 0.33354245845185376\n",
      "Cost: 1327.4449440586734\n",
      "\n",
      "Iteration: 2\n",
      "Diff: 1644.9594059978283\n",
      "Theta 0: 0.008319284972241516\n",
      "Theta 1: 0.5557035214498387\n",
      "Cost: 597.6703102214115\n",
      "\n",
      "Iteration: 3\n",
      "Diff: 729.774633837262\n",
      "Theta 0: 0.010533127355656115\n",
      "Theta 1: 0.7036773052035966\n",
      "Cost: 273.91094300438937\n",
      "\n",
      "Iteration: 4\n",
      "Diff: 323.7593672170221\n",
      "Theta 0: 0.012006667742524593\n",
      "Theta 1: 0.8022375187713469\n",
      "Cost: 130.2773839774843\n",
      "\n",
      "Iteration: 5\n",
      "Diff: 143.63355902690506\n",
      "Theta 0: 0.012987118705779484\n",
      "Theta 1: 0.8678850693676075\n",
      "Cost: 66.5553687854378\n",
      "\n",
      "Iteration: 6\n",
      "Diff: 63.7220151920465\n",
      "Theta 0: 0.01363913995457535\n",
      "Theta 1: 0.9116106382126296\n",
      "Cost: 38.2855461594421\n",
      "\n",
      "Iteration: 7\n",
      "Diff: 28.269822625995708\n",
      "Theta 0: 0.01407240560255936\n",
      "Theta 1: 0.9407347363616418\n",
      "Cost: 25.743838614518957\n",
      "\n",
      "Iteration: 8\n",
      "Diff: 12.541707544923142\n",
      "Theta 0: 0.014359965767857044\n",
      "Theta 1: 0.9601333019877012\n",
      "Cost: 20.179798347657165\n",
      "\n",
      "Iteration: 9\n",
      "Diff: 5.564040266861792\n",
      "Theta 0: 0.014550476597125748\n",
      "Theta 1: 0.9730540281668935\n",
      "Cost: 17.711350934258917\n",
      "\n",
      "Iteration: 10\n",
      "Diff: 2.4684474133982484\n",
      "Theta 0: 0.014676346259828754\n",
      "Theta 1: 0.9816600904650488\n",
      "Cost: 16.616241447790014\n",
      "\n",
      "Iteration: 11\n",
      "Diff: 1.0951094864689033\n",
      "Theta 0: 0.014759160712111483\n",
      "Theta 1: 0.9873923049996323\n",
      "Cost: 16.130403642333807\n",
      "\n",
      "Iteration: 12\n",
      "Diff: 0.4858378054562067\n",
      "Theta 0: 0.014813297609683026\n",
      "Theta 1: 0.9912103493470457\n",
      "Cost: 15.914864919144977\n",
      "\n",
      "Iteration: 13\n",
      "Diff: 0.21553872318883016\n",
      "Theta 0: 0.014848333409675602\n",
      "Theta 1: 0.993753431411396\n",
      "Cost: 15.819242476582742\n",
      "\n",
      "Iteration: 14\n",
      "Diff: 0.09562244256223451\n",
      "Theta 0: 0.014870646657594662\n",
      "Theta 1: 0.9954473053779638\n",
      "Cost: 15.77682004580103\n",
      "\n",
      "Iteration: 15\n",
      "Diff: 0.042422430781712706\n",
      "Theta 0: 0.014884485881074308\n",
      "Theta 1: 0.9965755513231513\n",
      "Cost: 15.757999424876637\n",
      "\n",
      "Iteration: 16\n",
      "Diff: 0.018820620924392628\n",
      "Theta 0: 0.01489268087681991\n",
      "Theta 1: 0.9973270520871346\n",
      "Cost: 15.749649580371416\n",
      "\n",
      "Iteration: 17\n",
      "Diff: 0.00834984450522036\n",
      "Theta 0: 0.014897116474137632\n",
      "Theta 1: 0.9978276159698669\n",
      "Cost: 15.745945021953178\n",
      "\n",
      "Iteration: 18\n",
      "Diff: 0.0037045584182386904\n",
      "Theta 0: 0.01489904809236768\n",
      "Theta 1: 0.9981610395106341\n",
      "Cost: 15.744301311940726\n",
      "\n",
      "Iteration: 19\n",
      "Diff: 0.0016437100124520043\n",
      "Theta 0: 0.014899311922731294\n",
      "Theta 1: 0.9983831366740062\n",
      "Cost: 15.743571882792624\n",
      "\n",
      "Iteration: 20\n",
      "Diff: 0.0007294291481017012\n",
      "Theta 0: 0.014898464923159441\n",
      "Theta 1: 0.9985310832033687\n",
      "Cost: 15.743248067909281\n",
      "\n",
      "Iteration: 21\n",
      "Diff: 0.00032381488334287667\n",
      "Theta 0: 0.014896878063986185\n",
      "Theta 1: 0.9986296405702794\n",
      "Cost: 15.743104200942952\n",
      "\n",
      "Iteration: 22\n",
      "Diff: 0.00014386696632939788\n",
      "Theta 0: 0.01489479843566663\n",
      "Theta 1: 0.9986953015309791\n",
      "Cost: 15.743040166610763\n",
      "\n",
      "Iteration: 23\n",
      "Diff: 6.403433218871157e-05\n",
      "Theta 0: 0.014892390616570841\n",
      "Theta 1: 0.9987390513376072\n",
      "Cost: 15.743011549473875\n",
      "\n",
      "Iteration: 24\n",
      "Diff: 2.861713688773193e-05\n",
      "Theta 0: 0.014889764226634685\n",
      "Theta 1: 0.9987682068850972\n",
      "Cost: 15.74299864493625\n",
      "\n",
      "Iteration: 25\n",
      "Diff: 1.2904537625146872e-05\n",
      "Theta 0: 0.014886992279889703\n",
      "Theta 1: 0.9987876417030486\n",
      "Cost: 15.742992711192883\n",
      "\n",
      "Iteration: 26\n",
      "Diff: 5.933743366881572e-06\n",
      "Theta 0: 0.014884123408445894\n",
      "Theta 1: 0.9988006018802705\n",
      "Cost: 15.742989870003669\n",
      "\n",
      "Iteration: 27\n",
      "Diff: 2.8411892145641104e-06\n",
      "Theta 0: 0.014881190004462095\n",
      "Theta 1: 0.9988092495237824\n",
      "Cost: 15.742988400814747\n",
      "\n",
      "Iteration: 28\n",
      "Diff: 1.4691889216322807e-06\n",
      "Theta 0: 0.014878213643229684\n",
      "Theta 1: 0.9988150247379799\n",
      "Cost: 15.742987540314543\n",
      "\n",
      "Iteration: 29\n",
      "Diff: 8.605002044248522e-07\n",
      "Theta 0: 0.0148752086953003\n",
      "Theta 1: 0.9988188867263863\n"
     ]
    },
    {
     "data": {
      "image/png": "[encoded data removed]",
      "text/plain": [
       "<Figure size 432x288 with 1 Axes>"
      ]
     },
     "metadata": {
      "needs_background": "light"
     },
     "output_type": "display_data"
    }
   ],
   "source": [
    "# Count number of iterations\n",
    "\n",
    "my_iter = 0\n",
    "\n",
    "while diff >= conv_thresh:\n",
    "    \n",
    "    \"\"\"\n",
    "    draw current hypothesis and training.\n",
    "    set to x-y plane.\n",
    "    draw all hypothesis lines so their changes with each iterations can be seen.\n",
    "    \n",
    "    \"\"\"\n",
    "    \n",
    "    my_line = np.linspace(0, 100)\n",
    "    z = theta_0 + theta_1 * (my_line)\n",
    "    \n",
    "    plt.scatter(X, y)\n",
    "    plt.plot(my_line, z, 'r')\n",
    "    \n",
    "    # calculate initial cost value\n",
    "    initial_cost = J(theta_0, theta_1, X, y)\n",
    "    \n",
    "    # calculate and assign new theta_0 and theta_1 values\n",
    "    theta_0, theta_1 = gradient_descent(theta_0, theta_1, alpha, X, y)\n",
    "    \n",
    "    # calculate consecutive cost value\n",
    "    new_cost = J(theta_0, theta_1, X, y)\n",
    "    \n",
    "    print('Cost: {}'.format(new_cost))\n",
    "    \n",
    "    # calculate difference between consecutive cost values\n",
    "    diff = initial_cost - new_cost\n",
    "    \n",
    "    my_iter += 1\n",
    "    \n",
    "    print()\n",
    "    print('Iteration: {}'.format(my_iter))\n",
    "    print('Diff: {}'.format(diff))\n",
    "    print('Theta 0: {}'.format(theta_0))\n",
    "    print('Theta 1: {}'.format(theta_1))\n",
    "    \n",
    "plt.show()"
   ]
  },
  {
   "cell_type": "markdown",
   "metadata": {},
   "source": [
    "- Observe that after choosing theta(i) values as (0, 0) initially, the number of iterations is 29.\n",
    "- Now I will add different values to my theta(i) and observe how this affects the training."
   ]
  },
  {
   "cell_type": "code",
   "execution_count": 18,
   "metadata": {},
   "outputs": [],
   "source": [
    "# Initialize theta_0, theta_1, learning rate and convergence threshold\n",
    "\n",
    "alpha = 0.0001\n",
    "theta_0 = 10\n",
    "theta_1 = 10\n",
    "conv_thresh = 0.000001"
   ]
  },
  {
   "cell_type": "code",
   "execution_count": 20,
   "metadata": {},
   "outputs": [
    {
     "name": "stdout",
     "output_type": "stream",
     "text": [
      "Initial Cost: 559190.9933932095\n"
     ]
    }
   ],
   "source": [
    "# Calculate initial cost value\n",
    "\n",
    "diff = J(theta_0, theta_1, X, y)\n",
    "\n",
    "# Count number of iterations\n",
    "my_iter = 0\n",
    "\n",
    "print('Initial Cost: {}'.format(J(theta_0, theta_1, X, y)))"
   ]
  },
  {
   "cell_type": "code",
   "execution_count": 21,
   "metadata": {},
   "outputs": [
    {
     "name": "stdout",
     "output_type": "stream",
     "text": [
      "\n",
      "Iteration: 10000\n",
      "Cost: 45.93014426772354\n",
      "Diff: 0.0015140031191833714\n",
      "\n",
      "Iteration: 20000\n",
      "Cost: 34.02382185163236\n",
      "Diff: 0.0009170027909277678\n",
      "\n",
      "Iteration: 30000\n",
      "Cost: 26.812389624868754\n",
      "Diff: 0.0005554110872729723\n",
      "\n",
      "Iteration: 40000\n",
      "Cost: 22.44456277256344\n",
      "Diff: 0.0003364018942058067\n",
      "\n",
      "Iteration: 50000\n",
      "Cost: 19.799053418552464\n",
      "Diff: 0.0002037522062856567\n",
      "\n",
      "Iteration: 60000\n",
      "Cost: 18.19671889870635\n",
      "Diff: 0.00012340882224748384\n",
      "\n",
      "Iteration: 70000\n",
      "Cost: 17.226215464425263\n",
      "Diff: 7.474636808169066e-05\n",
      "\n",
      "Iteration: 80000\n",
      "Cost: 16.638400058662274\n",
      "Diff: 4.5272448431887824e-05\n",
      "\n",
      "Iteration: 90000\n",
      "Cost: 16.282371487255645\n",
      "Diff: 2.7420657890075972e-05\n",
      "\n",
      "Iteration: 100000\n",
      "Cost: 16.06673177721216\n",
      "Diff: 1.6608169087106717e-05\n",
      "\n",
      "Iteration: 110000\n",
      "Cost: 15.936122920838832\n",
      "Diff: 1.0059251009053582e-05\n",
      "\n",
      "Iteration: 120000\n",
      "Cost: 15.857015629516157\n",
      "Diff: 6.092696335002756e-06\n",
      "\n",
      "Iteration: 130000\n",
      "Cost: 15.809101853114026\n",
      "Diff: 3.6902298781171794e-06\n",
      "\n",
      "Iteration: 140000\n",
      "Cost: 15.780081393296362\n",
      "Diff: 2.2351017996413702e-06\n",
      "\n",
      "Iteration: 150000\n",
      "Cost: 15.762504254709745\n",
      "Diff: 1.3537584990785945e-06\n",
      "\n",
      "Iteration: 156041\n",
      "Diff: 9.999878578526022e-07\n",
      "Theta 0: 0.0921504733444104\n",
      "Theta 1: 0.9976687808481557\n",
      "Final Cost: 15.75544880254952\n",
      "\n"
     ]
    },
    {
     "data": {
      "image/png": "[encoded data removed]",
      "text/plain": [
       "<Figure size 432x288 with 1 Axes>"
      ]
     },
     "metadata": {
      "needs_background": "light"
     },
     "output_type": "display_data"
    }
   ],
   "source": [
    "while diff >= conv_thresh:\n",
    "    # Calculate initial cost value\n",
    "    initial_cost = J(theta_0, theta_1, X, y)\n",
    "    \n",
    "    # Calculate and assign new theta(i) values\n",
    "    theta_0, theta_1 = gradient_descent(theta_0, theta_1, alpha, X, y)\n",
    "    \n",
    "    # Calculate the consecutive cost values\n",
    "    new_cost = J(theta_0, theta_1, X, y)\n",
    "    \n",
    "    # Calculate the difference between the cost values\n",
    "    diff = initial_cost - new_cost\n",
    "    \n",
    "    # Print for every 10000 iteration\n",
    "    my_iter += 1\n",
    "    if my_iter % 10000 == 0:\n",
    "        print()\n",
    "        print('Iteration: {}'.format(my_iter))\n",
    "        print('Cost: {}'.format(new_cost))\n",
    "        print('Diff: {}'.format(diff))\n",
    "\n",
    "print()\n",
    "print('Iteration: {}'.format(my_iter))\n",
    "print('Diff: {}'.format(diff))\n",
    "print('Theta 0: {}'.format(theta_0))\n",
    "print('Theta 1: {}'.format(theta_1))\n",
    "print('Final Cost: {}'.format(new_cost))\n",
    "print()\n",
    "\n",
    "# Plot the final hypothesis and training set to x-y plane\n",
    "# I will not draw all hypothesis because of high iteration count.\n",
    "my_line = np.linspace(0, 100)\n",
    "z = theta_0 + theta_1 * (my_line)\n",
    "    \n",
    "plt.scatter(X, y)\n",
    "plt.plot(my_line, z, 'r')\n",
    "plt.show()"
   ]
  },
  {
   "cell_type": "markdown",
   "metadata": {},
   "source": [
    "### EVALUATION"
   ]
  },
  {
   "cell_type": "markdown",
   "metadata": {},
   "source": [
    "I can finally evaluate my univariate linear regression model using the best theta(i) values gotten in previous cell.\n",
    "- theta_0: 0.0921504733444104\n",
    "- theta_1: 0.9976687808481557"
   ]
  },
  {
   "cell_type": "code",
   "execution_count": 22,
   "metadata": {},
   "outputs": [
    {
     "name": "stdout",
     "output_type": "stream",
     "text": [
      "Cost of Test Data: 18.952476458611127\n"
     ]
    },
    {
     "data": {
      "image/png": "[encoded data removed]",
      "text/plain": [
       "<Figure size 432x288 with 1 Axes>"
      ]
     },
     "metadata": {
      "needs_background": "light"
     },
     "output_type": "display_data"
    }
   ],
   "source": [
    "# Calculate cost value for the test data\n",
    "cost_test = J(theta_0, theta_1, X_test, y_test)\n",
    "\n",
    "print('Cost of Test Data: {}'.format(cost_test))\n",
    "\n",
    "# Plot the final hypothesis and training set to x-y plane for test data.\n",
    "my_line = np.linspace(0, 100)\n",
    "z = theta_0 + theta_1 * (my_line)\n",
    "    \n",
    "plt.scatter(X, y)\n",
    "plt.plot(my_line, z, 'r')\n",
    "plt.show()"
   ]
  },
  {
   "cell_type": "markdown",
   "metadata": {},
   "source": [
    "### CONCLUSION"
   ]
  },
  {
   "cell_type": "markdown",
   "metadata": {},
   "source": [
    "I have written the python implementation of a univariate linear regression from:\n",
    "- hypothesis\n",
    "- cost function\n",
    "- gradient descent\n",
    "\n",
    "I have also traine the algorithm using different parameter values for theta(i). We conclude that using the best fit line can help in training time reduction.\n",
    "\n",
    "**THANK YOU**"
   ]
  },
  {
   "cell_type": "code",
   "execution_count": null,
   "metadata": {},
   "outputs": [],
   "source": []
  }
 ],
 "metadata": {
  "kernelspec": {
   "display_name": "Python 3",
   "language": "python",
   "name": "python3"
  },
  "language_info": {
   "codemirror_mode": {
    "name": "ipython",
    "version": 3
   },
   "file_extension": ".py",
   "mimetype": "text/x-python",
   "name": "python",
   "nbconvert_exporter": "python",
   "pygments_lexer": "ipython3",
   "version": "3.8.5"
  }
 },
 "nbformat": 4,
 "nbformat_minor": 4
}
